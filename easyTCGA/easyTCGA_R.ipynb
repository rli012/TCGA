{
 "cells": [
  {
   "cell_type": "code",
   "execution_count": 6,
   "metadata": {
    "collapsed": true
   },
   "outputs": [],
   "source": []
  },
  {
   "cell_type": "code",
   "execution_count": null,
   "metadata": {
    "collapsed": true
   },
   "outputs": [],
   "source": []
  },
  {
   "cell_type": "code",
   "execution_count": 132,
   "metadata": {
    "collapsed": false
   },
   "outputs": [],
   "source": [
    "############################################\n",
    "####### Set up Environment Variables #######\n",
    "############################################\n",
    "library(statmod)\n",
    "library(limma)\n",
    "library(edgeR)\n",
    "\n",
    "options(repr.plot.width = 4, repr.plot.height = 3)\n",
    "\n",
    "\n",
    "easyTCGA = '/home/ruidong/Documents/Research/Cancer_Genomics/easyTCGA_test'\n",
    "project = 'TCGA-PRAD'\n",
    "genoDataType = 'miRNA_Expression_Quantification'\n",
    "analysis = 'Analysis'\n",
    "\n",
    "setwd(paste(easyTCGA, project, genoDataType, analysis, sep='/'))"
   ]
  },
  {
   "cell_type": "code",
   "execution_count": null,
   "metadata": {
    "collapsed": true
   },
   "outputs": [],
   "source": []
  },
  {
   "cell_type": "code",
   "execution_count": null,
   "metadata": {
    "collapsed": true
   },
   "outputs": [],
   "source": [
    "###################################################\n",
    "#### Differential Expression Analysis by limma ####\n",
    "###################################################\n",
    "\n",
    "readCounts <- read.table('miRseq.counts_and_traits.TCGA-PRAD.txt', header = T, stringsAsFactors = F)\n",
    "dim(readCounts)\n",
    "readCounts[1:5,1:5]\n",
    "\n",
    "sampleType = as.matrix(readCounts['sample_type',])\n",
    "sampleType\n",
    "sampleType = as.factor(sampleType)\n",
    "\n",
    "-\n"
   ]
  },
  {
   "cell_type": "code",
   "execution_count": null,
   "metadata": {
    "collapsed": true
   },
   "outputs": [],
   "source": []
  },
  {
   "cell_type": "code",
   "execution_count": null,
   "metadata": {
    "collapsed": true
   },
   "outputs": [],
   "source": []
  },
  {
   "cell_type": "code",
   "execution_count": 111,
   "metadata": {
    "collapsed": false
   },
   "outputs": [
    {
     "data": {
      "text/html": [
       "<ol class=list-inline>\n",
       "\t<li>1893</li>\n",
       "\t<li>551</li>\n",
       "</ol>\n"
      ],
      "text/latex": [
       "\\begin{enumerate*}\n",
       "\\item 1893\n",
       "\\item 551\n",
       "\\end{enumerate*}\n"
      ],
      "text/markdown": [
       "1. 1893\n",
       "2. 551\n",
       "\n",
       "\n"
      ],
      "text/plain": [
       "[1] 1893  551"
      ]
     },
     "metadata": {},
     "output_type": "display_data"
    },
    {
     "data": {
      "text/html": [
       "<table>\n",
       "<thead><tr><th></th><th scope=col>TCGA.CH.5743.01A</th><th scope=col>TCGA.EJ.5510.01A</th><th scope=col>TCGA.HC.7081.01A</th><th scope=col>TCGA.TK.A8OK.01A</th><th scope=col>TCGA.V1.A8WV.01A</th></tr></thead>\n",
       "<tbody>\n",
       "\t<tr><th scope=row>sample_type</th><td>PrimaryTumor</td><td>PrimaryTumor</td><td>PrimaryTumor</td><td>PrimaryTumor</td><td>PrimaryTumor</td></tr>\n",
       "\t<tr><th scope=row>sample_type_id</th><td>01          </td><td>01          </td><td>01          </td><td>01          </td><td>01          </td></tr>\n",
       "\t<tr><th scope=row>tumor_stage</th><td>NA          </td><td>NA          </td><td>NA          </td><td>NA          </td><td>NA          </td></tr>\n",
       "\t<tr><th scope=row>tumor_grade</th><td>NA          </td><td>NA          </td><td>NA          </td><td>NA          </td><td>NA          </td></tr>\n",
       "\t<tr><th scope=row>age_at_diagnosis</th><td>24321.0     </td><td>17895.0     </td><td>NA          </td><td>26976.0     </td><td>19345.0     </td></tr>\n",
       "</tbody>\n",
       "</table>\n"
      ],
      "text/latex": [
       "\\begin{tabular}{r|lllll}\n",
       "  & TCGA.CH.5743.01A & TCGA.EJ.5510.01A & TCGA.HC.7081.01A & TCGA.TK.A8OK.01A & TCGA.V1.A8WV.01A\\\\\n",
       "\\hline\n",
       "\tsample\\_type & PrimaryTumor & PrimaryTumor & PrimaryTumor & PrimaryTumor & PrimaryTumor\\\\\n",
       "\tsample\\_type\\_id & 01           & 01           & 01           & 01           & 01          \\\\\n",
       "\ttumor\\_stage & NA           & NA           & NA           & NA           & NA          \\\\\n",
       "\ttumor\\_grade & NA           & NA           & NA           & NA           & NA          \\\\\n",
       "\tage\\_at\\_diagnosis & 24321.0      & 17895.0      & NA           & 26976.0      & 19345.0     \\\\\n",
       "\\end{tabular}\n"
      ],
      "text/markdown": [
       "\n",
       "| <!--/--> | TCGA.CH.5743.01A | TCGA.EJ.5510.01A | TCGA.HC.7081.01A | TCGA.TK.A8OK.01A | TCGA.V1.A8WV.01A | \n",
       "|---|---|---|---|---|\n",
       "| sample_type | PrimaryTumor | PrimaryTumor | PrimaryTumor | PrimaryTumor | PrimaryTumor | \n",
       "| sample_type_id | 01           | 01           | 01           | 01           | 01           | \n",
       "| tumor_stage | NA           | NA           | NA           | NA           | NA           | \n",
       "| tumor_grade | NA           | NA           | NA           | NA           | NA           | \n",
       "| age_at_diagnosis | 24321.0      | 17895.0      | NA           | 26976.0      | 19345.0      | \n",
       "\n",
       "\n"
      ],
      "text/plain": [
       "                 TCGA.CH.5743.01A TCGA.EJ.5510.01A TCGA.HC.7081.01A\n",
       "sample_type      PrimaryTumor     PrimaryTumor     PrimaryTumor    \n",
       "sample_type_id   01               01               01              \n",
       "tumor_stage      NA               NA               NA              \n",
       "tumor_grade      NA               NA               NA              \n",
       "age_at_diagnosis 24321.0          17895.0          NA              \n",
       "                 TCGA.TK.A8OK.01A TCGA.V1.A8WV.01A\n",
       "sample_type      PrimaryTumor     PrimaryTumor    \n",
       "sample_type_id   01               01              \n",
       "tumor_stage      NA               NA              \n",
       "tumor_grade      NA               NA              \n",
       "age_at_diagnosis 26976.0          19345.0         "
      ]
     },
     "metadata": {},
     "output_type": "display_data"
    }
   ],
   "source": [
    "###################################################\n",
    "#### Differential Expression Analysis by limma ####\n",
    "###################################################\n",
    "\n",
    "readCounts <- read.table('miRseq.counts_and_traits.TCGA-PRAD.txt', header = T, stringsAsFactors = F)\n",
    "dim(readCounts)\n",
    "readCounts[1:5,1:5]"
   ]
  },
  {
   "cell_type": "code",
   "execution_count": null,
   "metadata": {
    "collapsed": true
   },
   "outputs": [],
   "source": []
  },
  {
   "cell_type": "code",
   "execution_count": 133,
   "metadata": {
    "collapsed": false
   },
   "outputs": [
    {
     "data": {
      "text/html": [
       "<table>\n",
       "<thead><tr><th></th><th scope=col>TCGA.CH.5743.01A</th><th scope=col>TCGA.EJ.5510.01A</th><th scope=col>TCGA.HC.7081.01A</th><th scope=col>TCGA.TK.A8OK.01A</th><th scope=col>TCGA.V1.A8WV.01A</th><th scope=col>TCGA.EJ.A8FU.01A</th><th scope=col>TCGA.HC.8261.01B</th><th scope=col>TCGA.HC.A6AQ.01A</th><th scope=col>TCGA.ZG.A8QX.01A</th><th scope=col>TCGA.VP.A87B.01A</th><th scope=col>⋯</th><th scope=col>TCGA.CH.5744.01A</th><th scope=col>TCGA.VN.A88L.01A</th><th scope=col>TCGA.J4.A6G3.01A</th><th scope=col>TCGA.FC.7708.01A</th><th scope=col>TCGA.EJ.5517.01A</th><th scope=col>TCGA.H9.7775.01A</th><th scope=col>TCGA.ZG.A9L0.01A</th><th scope=col>TCGA.HC.8262.01A</th><th scope=col>TCGA.EJ.5497.01A</th><th scope=col>TCGA.EJ.A7NM.01A</th></tr></thead>\n",
       "<tbody>\n",
       "\t<tr><th scope=row>sample_type</th><td>PrimaryTumor</td><td>PrimaryTumor</td><td>PrimaryTumor</td><td>PrimaryTumor</td><td>PrimaryTumor</td><td>PrimaryTumor</td><td>PrimaryTumor</td><td>PrimaryTumor</td><td>PrimaryTumor</td><td>PrimaryTumor</td><td>⋯           </td><td>PrimaryTumor</td><td>PrimaryTumor</td><td>PrimaryTumor</td><td>PrimaryTumor</td><td>PrimaryTumor</td><td>PrimaryTumor</td><td>PrimaryTumor</td><td>PrimaryTumor</td><td>PrimaryTumor</td><td>PrimaryTumor</td></tr>\n",
       "</tbody>\n",
       "</table>\n"
      ],
      "text/latex": [
       "\\begin{tabular}{r|lllllllllllllllllllllllllllllllllllllllllllllllllllllllllllllllllllllllllllllllllllllllllllllllllllllllllllllllllllllllllllllllllllllllllllllllllllllllllllllllllllllllllllllllllllllllllllllllllllllllllllllllllllllllllllllllllllllllllllllllllllllllllllllllllllllllllllllllllllllllllllllllllllllllllllllllllllllllllllllllllllllllllllllllllllllllllllllllllllllllllllllllllllllllllllllllllllllllllllllllllllllllllllllllllllllllllllllllllllllllllllllllllllllllllllllllllllllllllllllllllllllllllllllllllllllllllllllllllllllllllllllllllllllllllllllllllllllll}\n",
       "  & TCGA.CH.5743.01A & TCGA.EJ.5510.01A & TCGA.HC.7081.01A & TCGA.TK.A8OK.01A & TCGA.V1.A8WV.01A & TCGA.EJ.A8FU.01A & TCGA.HC.8261.01B & TCGA.HC.A6AQ.01A & TCGA.ZG.A8QX.01A & TCGA.VP.A87B.01A & ⋯ & TCGA.CH.5744.01A & TCGA.VN.A88L.01A & TCGA.J4.A6G3.01A & TCGA.FC.7708.01A & TCGA.EJ.5517.01A & TCGA.H9.7775.01A & TCGA.ZG.A9L0.01A & TCGA.HC.8262.01A & TCGA.EJ.5497.01A & TCGA.EJ.A7NM.01A\\\\\n",
       "\\hline\n",
       "\tsample\\_type & PrimaryTumor & PrimaryTumor & PrimaryTumor & PrimaryTumor & PrimaryTumor & PrimaryTumor & PrimaryTumor & PrimaryTumor & PrimaryTumor & PrimaryTumor & ⋯            & PrimaryTumor & PrimaryTumor & PrimaryTumor & PrimaryTumor & PrimaryTumor & PrimaryTumor & PrimaryTumor & PrimaryTumor & PrimaryTumor & PrimaryTumor\\\\\n",
       "\\end{tabular}\n"
      ],
      "text/markdown": [
       "\n",
       "| <!--/--> | TCGA.CH.5743.01A | TCGA.EJ.5510.01A | TCGA.HC.7081.01A | TCGA.TK.A8OK.01A | TCGA.V1.A8WV.01A | TCGA.EJ.A8FU.01A | TCGA.HC.8261.01B | TCGA.HC.A6AQ.01A | TCGA.ZG.A8QX.01A | TCGA.VP.A87B.01A | ⋯ | TCGA.CH.5744.01A | TCGA.VN.A88L.01A | TCGA.J4.A6G3.01A | TCGA.FC.7708.01A | TCGA.EJ.5517.01A | TCGA.H9.7775.01A | TCGA.ZG.A9L0.01A | TCGA.HC.8262.01A | TCGA.EJ.5497.01A | TCGA.EJ.A7NM.01A | \n",
       "|---|\n",
       "| sample_type | PrimaryTumor | PrimaryTumor | PrimaryTumor | PrimaryTumor | PrimaryTumor | PrimaryTumor | PrimaryTumor | PrimaryTumor | PrimaryTumor | PrimaryTumor | ⋯            | PrimaryTumor | PrimaryTumor | PrimaryTumor | PrimaryTumor | PrimaryTumor | PrimaryTumor | PrimaryTumor | PrimaryTumor | PrimaryTumor | PrimaryTumor | \n",
       "\n",
       "\n"
      ],
      "text/plain": [
       "            TCGA.CH.5743.01A TCGA.EJ.5510.01A TCGA.HC.7081.01A TCGA.TK.A8OK.01A\n",
       "sample_type PrimaryTumor     PrimaryTumor     PrimaryTumor     PrimaryTumor    \n",
       "            TCGA.V1.A8WV.01A TCGA.EJ.A8FU.01A TCGA.HC.8261.01B TCGA.HC.A6AQ.01A\n",
       "sample_type PrimaryTumor     PrimaryTumor     PrimaryTumor     PrimaryTumor    \n",
       "            TCGA.ZG.A8QX.01A TCGA.VP.A87B.01A ⋯ TCGA.CH.5744.01A\n",
       "sample_type PrimaryTumor     PrimaryTumor     ⋯ PrimaryTumor    \n",
       "            TCGA.VN.A88L.01A TCGA.J4.A6G3.01A TCGA.FC.7708.01A TCGA.EJ.5517.01A\n",
       "sample_type PrimaryTumor     PrimaryTumor     PrimaryTumor     PrimaryTumor    \n",
       "            TCGA.H9.7775.01A TCGA.ZG.A9L0.01A TCGA.HC.8262.01A TCGA.EJ.5497.01A\n",
       "sample_type PrimaryTumor     PrimaryTumor     PrimaryTumor     PrimaryTumor    \n",
       "            TCGA.EJ.A7NM.01A\n",
       "sample_type PrimaryTumor    "
      ]
     },
     "metadata": {},
     "output_type": "display_data"
    },
    {
     "data": {
      "text/plain": [
       "sampleType\n",
       "       Metastatic      PrimaryTumor SolidTissueNormal \n",
       "                1               498                52 "
      ]
     },
     "metadata": {},
     "output_type": "display_data"
    }
   ],
   "source": [
    "\n",
    "sampleType = as.matrix(readCounts['sample_type',])\n",
    "sampleType\n",
    "sampleType = as.factor(sampleType)\n",
    "\n",
    "### summary of sample type\n",
    "table(sampleType)"
   ]
  },
  {
   "cell_type": "code",
   "execution_count": null,
   "metadata": {
    "collapsed": true
   },
   "outputs": [],
   "source": []
  },
  {
   "cell_type": "code",
   "execution_count": 113,
   "metadata": {
    "collapsed": false
   },
   "outputs": [
    {
     "data": {
      "text/html": [
       "<table>\n",
       "<thead><tr><th></th><th scope=col>Metastatic</th><th scope=col>PrimaryTumor</th><th scope=col>SolidTissueNormal</th></tr></thead>\n",
       "<tbody>\n",
       "\t<tr><th scope=row>1</th><td>0</td><td>1</td><td>0</td></tr>\n",
       "\t<tr><th scope=row>2</th><td>0</td><td>1</td><td>0</td></tr>\n",
       "\t<tr><th scope=row>3</th><td>0</td><td>1</td><td>0</td></tr>\n",
       "\t<tr><th scope=row>4</th><td>0</td><td>1</td><td>0</td></tr>\n",
       "\t<tr><th scope=row>5</th><td>0</td><td>1</td><td>0</td></tr>\n",
       "\t<tr><th scope=row>6</th><td>0</td><td>1</td><td>0</td></tr>\n",
       "</tbody>\n",
       "</table>\n"
      ],
      "text/latex": [
       "\\begin{tabular}{r|lll}\n",
       "  & Metastatic & PrimaryTumor & SolidTissueNormal\\\\\n",
       "\\hline\n",
       "\t1 & 0 & 1 & 0\\\\\n",
       "\t2 & 0 & 1 & 0\\\\\n",
       "\t3 & 0 & 1 & 0\\\\\n",
       "\t4 & 0 & 1 & 0\\\\\n",
       "\t5 & 0 & 1 & 0\\\\\n",
       "\t6 & 0 & 1 & 0\\\\\n",
       "\\end{tabular}\n"
      ],
      "text/markdown": [
       "\n",
       "| <!--/--> | Metastatic | PrimaryTumor | SolidTissueNormal | \n",
       "|---|---|---|---|---|---|\n",
       "| 1 | 0 | 1 | 0 | \n",
       "| 2 | 0 | 1 | 0 | \n",
       "| 3 | 0 | 1 | 0 | \n",
       "| 4 | 0 | 1 | 0 | \n",
       "| 5 | 0 | 1 | 0 | \n",
       "| 6 | 0 | 1 | 0 | \n",
       "\n",
       "\n"
      ],
      "text/plain": [
       "  Metastatic PrimaryTumor SolidTissueNormal\n",
       "1 0          1            0                \n",
       "2 0          1            0                \n",
       "3 0          1            0                \n",
       "4 0          1            0                \n",
       "5 0          1            0                \n",
       "6 0          1            0                "
      ]
     },
     "metadata": {},
     "output_type": "display_data"
    },
    {
     "data": {
      "text/html": [
       "<table>\n",
       "<thead><tr><th></th><th scope=col>PrimaryTumor - SolidTissueNormal</th></tr></thead>\n",
       "<tbody>\n",
       "\t<tr><th scope=row>Metastatic</th><td> 0</td></tr>\n",
       "\t<tr><th scope=row>PrimaryTumor</th><td> 1</td></tr>\n",
       "\t<tr><th scope=row>SolidTissueNormal</th><td>-1</td></tr>\n",
       "</tbody>\n",
       "</table>\n"
      ],
      "text/latex": [
       "\\begin{tabular}{r|l}\n",
       "  & PrimaryTumor - SolidTissueNormal\\\\\n",
       "\\hline\n",
       "\tMetastatic &  0\\\\\n",
       "\tPrimaryTumor &  1\\\\\n",
       "\tSolidTissueNormal & -1\\\\\n",
       "\\end{tabular}\n"
      ],
      "text/markdown": [
       "\n",
       "| <!--/--> | PrimaryTumor - SolidTissueNormal | \n",
       "|---|---|---|\n",
       "| Metastatic |  0 | \n",
       "| PrimaryTumor |  1 | \n",
       "| SolidTissueNormal | -1 | \n",
       "\n",
       "\n"
      ],
      "text/plain": [
       "                   Contrasts\n",
       "Levels              PrimaryTumor - SolidTissueNormal\n",
       "  Metastatic         0                              \n",
       "  PrimaryTumor       1                              \n",
       "  SolidTissueNormal -1                              "
      ]
     },
     "metadata": {},
     "output_type": "display_data"
    }
   ],
   "source": [
    "design <- model.matrix(~0+sampleType)\n",
    "for (i in 1:length(colnames(design))) {\n",
    "  colnames(design)[i] = sub('sampleType', '',colnames(design)[i])\n",
    "}\n",
    "head(design)\n",
    "\n",
    "\n",
    "contrast.matrix <- makeContrasts(PrimaryTumor-SolidTissueNormal, levels=design) # do it manually\n",
    "contrast.matrix"
   ]
  },
  {
   "cell_type": "code",
   "execution_count": null,
   "metadata": {
    "collapsed": true
   },
   "outputs": [],
   "source": []
  },
  {
   "cell_type": "code",
   "execution_count": 115,
   "metadata": {
    "collapsed": false
   },
   "outputs": [
    {
     "data": {
      "text/html": [
       "<table>\n",
       "<thead><tr><th></th><th scope=col>group</th><th scope=col>lib.size</th><th scope=col>norm.factors</th></tr></thead>\n",
       "<tbody>\n",
       "\t<tr><th scope=row>TCGA.CH.5743.01A</th><td>PrimaryTumor</td><td> 6792951    </td><td>1           </td></tr>\n",
       "\t<tr><th scope=row>TCGA.EJ.5510.01A</th><td>PrimaryTumor</td><td> 4826527    </td><td>1           </td></tr>\n",
       "\t<tr><th scope=row>TCGA.HC.7081.01A</th><td>PrimaryTumor</td><td> 5844605    </td><td>1           </td></tr>\n",
       "\t<tr><th scope=row>TCGA.TK.A8OK.01A</th><td>PrimaryTumor</td><td>10028473    </td><td>1           </td></tr>\n",
       "\t<tr><th scope=row>TCGA.V1.A8WV.01A</th><td>PrimaryTumor</td><td> 3791670    </td><td>1           </td></tr>\n",
       "\t<tr><th scope=row>TCGA.EJ.A8FU.01A</th><td>PrimaryTumor</td><td> 8429774    </td><td>1           </td></tr>\n",
       "</tbody>\n",
       "</table>\n"
      ],
      "text/latex": [
       "\\begin{tabular}{r|lll}\n",
       "  & group & lib.size & norm.factors\\\\\n",
       "\\hline\n",
       "\tTCGA.CH.5743.01A & PrimaryTumor &  6792951     & 1           \\\\\n",
       "\tTCGA.EJ.5510.01A & PrimaryTumor &  4826527     & 1           \\\\\n",
       "\tTCGA.HC.7081.01A & PrimaryTumor &  5844605     & 1           \\\\\n",
       "\tTCGA.TK.A8OK.01A & PrimaryTumor & 10028473     & 1           \\\\\n",
       "\tTCGA.V1.A8WV.01A & PrimaryTumor &  3791670     & 1           \\\\\n",
       "\tTCGA.EJ.A8FU.01A & PrimaryTumor &  8429774     & 1           \\\\\n",
       "\\end{tabular}\n"
      ],
      "text/markdown": [
       "\n",
       "| <!--/--> | group | lib.size | norm.factors | \n",
       "|---|---|---|---|---|---|\n",
       "| TCGA.CH.5743.01A | PrimaryTumor |  6792951     | 1            | \n",
       "| TCGA.EJ.5510.01A | PrimaryTumor |  4826527     | 1            | \n",
       "| TCGA.HC.7081.01A | PrimaryTumor |  5844605     | 1            | \n",
       "| TCGA.TK.A8OK.01A | PrimaryTumor | 10028473     | 1            | \n",
       "| TCGA.V1.A8WV.01A | PrimaryTumor |  3791670     | 1            | \n",
       "| TCGA.EJ.A8FU.01A | PrimaryTumor |  8429774     | 1            | \n",
       "\n",
       "\n"
      ],
      "text/plain": [
       "                 group        lib.size norm.factors\n",
       "TCGA.CH.5743.01A PrimaryTumor  6792951 1           \n",
       "TCGA.EJ.5510.01A PrimaryTumor  4826527 1           \n",
       "TCGA.HC.7081.01A PrimaryTumor  5844605 1           \n",
       "TCGA.TK.A8OK.01A PrimaryTumor 10028473 1           \n",
       "TCGA.V1.A8WV.01A PrimaryTumor  3791670 1           \n",
       "TCGA.EJ.A8FU.01A PrimaryTumor  8429774 1           "
      ]
     },
     "metadata": {},
     "output_type": "display_data"
    },
    {
     "data": {
      "text/plain": [
       "   Mode   FALSE    TRUE    NA's \n",
       "logical    1582     299       0 "
      ]
     },
     "metadata": {},
     "output_type": "display_data"
    },
    {
     "data": {
      "text/html": [
       "<table>\n",
       "<thead><tr><th></th><th scope=col>group</th><th scope=col>lib.size</th><th scope=col>norm.factors</th></tr></thead>\n",
       "<tbody>\n",
       "\t<tr><th scope=row>TCGA.CH.5743.01A</th><td>PrimaryTumor</td><td> 6792364    </td><td>0.6013563   </td></tr>\n",
       "\t<tr><th scope=row>TCGA.EJ.5510.01A</th><td>PrimaryTumor</td><td> 4826125    </td><td>0.6058422   </td></tr>\n",
       "\t<tr><th scope=row>TCGA.HC.7081.01A</th><td>PrimaryTumor</td><td> 5843860    </td><td>1.0739466   </td></tr>\n",
       "\t<tr><th scope=row>TCGA.TK.A8OK.01A</th><td>PrimaryTumor</td><td>10027388    </td><td>0.8733532   </td></tr>\n",
       "\t<tr><th scope=row>TCGA.V1.A8WV.01A</th><td>PrimaryTumor</td><td> 3790761    </td><td>1.5051673   </td></tr>\n",
       "\t<tr><th scope=row>TCGA.EJ.A8FU.01A</th><td>PrimaryTumor</td><td> 8429076    </td><td>0.6715301   </td></tr>\n",
       "</tbody>\n",
       "</table>\n"
      ],
      "text/latex": [
       "\\begin{tabular}{r|lll}\n",
       "  & group & lib.size & norm.factors\\\\\n",
       "\\hline\n",
       "\tTCGA.CH.5743.01A & PrimaryTumor &  6792364     & 0.6013563   \\\\\n",
       "\tTCGA.EJ.5510.01A & PrimaryTumor &  4826125     & 0.6058422   \\\\\n",
       "\tTCGA.HC.7081.01A & PrimaryTumor &  5843860     & 1.0739466   \\\\\n",
       "\tTCGA.TK.A8OK.01A & PrimaryTumor & 10027388     & 0.8733532   \\\\\n",
       "\tTCGA.V1.A8WV.01A & PrimaryTumor &  3790761     & 1.5051673   \\\\\n",
       "\tTCGA.EJ.A8FU.01A & PrimaryTumor &  8429076     & 0.6715301   \\\\\n",
       "\\end{tabular}\n"
      ],
      "text/markdown": [
       "\n",
       "| <!--/--> | group | lib.size | norm.factors | \n",
       "|---|---|---|---|---|---|\n",
       "| TCGA.CH.5743.01A | PrimaryTumor |  6792364     | 0.6013563    | \n",
       "| TCGA.EJ.5510.01A | PrimaryTumor |  4826125     | 0.6058422    | \n",
       "| TCGA.HC.7081.01A | PrimaryTumor |  5843860     | 1.0739466    | \n",
       "| TCGA.TK.A8OK.01A | PrimaryTumor | 10027388     | 0.8733532    | \n",
       "| TCGA.V1.A8WV.01A | PrimaryTumor |  3790761     | 1.5051673    | \n",
       "| TCGA.EJ.A8FU.01A | PrimaryTumor |  8429076     | 0.6715301    | \n",
       "\n",
       "\n"
      ],
      "text/plain": [
       "                 group        lib.size norm.factors\n",
       "TCGA.CH.5743.01A PrimaryTumor  6792364 0.6013563   \n",
       "TCGA.EJ.5510.01A PrimaryTumor  4826125 0.6058422   \n",
       "TCGA.HC.7081.01A PrimaryTumor  5843860 1.0739466   \n",
       "TCGA.TK.A8OK.01A PrimaryTumor 10027388 0.8733532   \n",
       "TCGA.V1.A8WV.01A PrimaryTumor  3790761 1.5051673   \n",
       "TCGA.EJ.A8FU.01A PrimaryTumor  8429076 0.6715301   "
      ]
     },
     "metadata": {},
     "output_type": "display_data"
    }
   ],
   "source": [
    "\n",
    "### TMM normalization on the raw counts by edgeR\n",
    "dge = DGEList(counts = readCounts[13:nrow(readCounts),], group = sampleType)\n",
    "head(dge$samples)\n",
    "\n",
    "### filtering and normalization\n",
    "#keep <- rowSums(dge$counts) > 378\n",
    "numSamples = summary(sampleType)['PrimaryTumor']+summary(sampleType)['SolidTissueNormal']\n",
    "keep <- rowSums(cpm(dge) > 1) >= 0.5*numSamples ## not sure how much is better\n",
    "summary(keep)\n",
    "\n",
    "dge <- dge[keep,,keep.lib.sizes = FALSE]\n",
    "#write.table(rownames(dge), file='Genes_with_detectable_expression_value.txt', sep='\\t', quote=FALSE)\n",
    "\n",
    "dge = calcNormFactors(dge)\n",
    "head(dge$samples)"
   ]
  },
  {
   "cell_type": "code",
   "execution_count": null,
   "metadata": {
    "collapsed": true
   },
   "outputs": [],
   "source": []
  },
  {
   "cell_type": "code",
   "execution_count": 124,
   "metadata": {
    "collapsed": false
   },
   "outputs": [
    {
     "data": {
      "text/html": [
       "<table>\n",
       "<thead><tr><th></th><th scope=col>TCGA.CH.5743.01A</th><th scope=col>TCGA.EJ.5510.01A</th><th scope=col>TCGA.HC.7081.01A</th><th scope=col>TCGA.TK.A8OK.01A</th><th scope=col>TCGA.V1.A8WV.01A</th></tr></thead>\n",
       "<tbody>\n",
       "\t<tr><th scope=row>hsa-let-7a-1</th><td>13.72091</td><td>13.22580</td><td>13.46819</td><td>12.99352</td><td>12.73283</td></tr>\n",
       "\t<tr><th scope=row>hsa-let-7a-2</th><td>14.70524</td><td>14.21374</td><td>14.46237</td><td>12.99828</td><td>13.73178</td></tr>\n",
       "\t<tr><th scope=row>hsa-let-7a-3</th><td>13.70038</td><td>13.21893</td><td>13.48291</td><td>12.99522</td><td>12.73546</td></tr>\n",
       "\t<tr><th scope=row>hsa-let-7b</th><td>13.22277</td><td>13.01350</td><td>13.39921</td><td>12.15491</td><td>12.15999</td></tr>\n",
       "\t<tr><th scope=row>hsa-let-7c</th><td>14.01050</td><td>14.07436</td><td>13.25567</td><td>12.37702</td><td>13.08560</td></tr>\n",
       "</tbody>\n",
       "</table>\n"
      ],
      "text/latex": [
       "\\begin{tabular}{r|lllll}\n",
       "  & TCGA.CH.5743.01A & TCGA.EJ.5510.01A & TCGA.HC.7081.01A & TCGA.TK.A8OK.01A & TCGA.V1.A8WV.01A\\\\\n",
       "\\hline\n",
       "\thsa-let-7a-1 & 13.72091 & 13.22580 & 13.46819 & 12.99352 & 12.73283\\\\\n",
       "\thsa-let-7a-2 & 14.70524 & 14.21374 & 14.46237 & 12.99828 & 13.73178\\\\\n",
       "\thsa-let-7a-3 & 13.70038 & 13.21893 & 13.48291 & 12.99522 & 12.73546\\\\\n",
       "\thsa-let-7b & 13.22277 & 13.01350 & 13.39921 & 12.15491 & 12.15999\\\\\n",
       "\thsa-let-7c & 14.01050 & 14.07436 & 13.25567 & 12.37702 & 13.08560\\\\\n",
       "\\end{tabular}\n"
      ],
      "text/markdown": [
       "\n",
       "| <!--/--> | TCGA.CH.5743.01A | TCGA.EJ.5510.01A | TCGA.HC.7081.01A | TCGA.TK.A8OK.01A | TCGA.V1.A8WV.01A | \n",
       "|---|---|---|---|---|\n",
       "| hsa-let-7a-1 | 13.72091 | 13.22580 | 13.46819 | 12.99352 | 12.73283 | \n",
       "| hsa-let-7a-2 | 14.70524 | 14.21374 | 14.46237 | 12.99828 | 13.73178 | \n",
       "| hsa-let-7a-3 | 13.70038 | 13.21893 | 13.48291 | 12.99522 | 12.73546 | \n",
       "| hsa-let-7b | 13.22277 | 13.01350 | 13.39921 | 12.15491 | 12.15999 | \n",
       "| hsa-let-7c | 14.01050 | 14.07436 | 13.25567 | 12.37702 | 13.08560 | \n",
       "\n",
       "\n"
      ],
      "text/plain": [
       "             TCGA.CH.5743.01A TCGA.EJ.5510.01A TCGA.HC.7081.01A\n",
       "hsa-let-7a-1 13.72091         13.22580         13.46819        \n",
       "hsa-let-7a-2 14.70524         14.21374         14.46237        \n",
       "hsa-let-7a-3 13.70038         13.21893         13.48291        \n",
       "hsa-let-7b   13.22277         13.01350         13.39921        \n",
       "hsa-let-7c   14.01050         14.07436         13.25567        \n",
       "             TCGA.TK.A8OK.01A TCGA.V1.A8WV.01A\n",
       "hsa-let-7a-1 12.99352         12.73283        \n",
       "hsa-let-7a-2 12.99828         13.73178        \n",
       "hsa-let-7a-3 12.99522         12.73546        \n",
       "hsa-let-7b   12.15491         12.15999        \n",
       "hsa-let-7c   12.37702         13.08560        "
      ]
     },
     "metadata": {},
     "output_type": "display_data"
    },
    {
     "data": {
      "image/png": "[encoded data removed]",
      "text/plain": [
       "Plot with title “voom: Mean-variance trend”"
      ]
     },
     "metadata": {},
     "output_type": "display_data"
    }
   ],
   "source": [
    "\n",
    "### voom transformation\n",
    "v <- voom(dge, design, plot = TRUE)\n",
    "v$E[1:5,1:5]\n"
   ]
  },
  {
   "cell_type": "code",
   "execution_count": null,
   "metadata": {
    "collapsed": true
   },
   "outputs": [],
   "source": []
  },
  {
   "cell_type": "code",
   "execution_count": 119,
   "metadata": {
    "collapsed": false
   },
   "outputs": [
    {
     "data": {
      "text/html": [
       "<table>\n",
       "<thead><tr><th></th><th scope=col>PrimaryTumor - SolidTissueNormal</th></tr></thead>\n",
       "<tbody>\n",
       "\t<tr><th scope=row>hsa-let-7a-1</th><td>0</td></tr>\n",
       "\t<tr><th scope=row>hsa-let-7a-2</th><td>0</td></tr>\n",
       "\t<tr><th scope=row>hsa-let-7a-3</th><td>0</td></tr>\n",
       "\t<tr><th scope=row>hsa-let-7b</th><td>0</td></tr>\n",
       "\t<tr><th scope=row>hsa-let-7c</th><td>0</td></tr>\n",
       "\t<tr><th scope=row>hsa-let-7d</th><td>0</td></tr>\n",
       "</tbody>\n",
       "</table>\n"
      ],
      "text/latex": [
       "\\begin{tabular}{r|l}\n",
       "  & PrimaryTumor - SolidTissueNormal\\\\\n",
       "\\hline\n",
       "\thsa-let-7a-1 & 0\\\\\n",
       "\thsa-let-7a-2 & 0\\\\\n",
       "\thsa-let-7a-3 & 0\\\\\n",
       "\thsa-let-7b & 0\\\\\n",
       "\thsa-let-7c & 0\\\\\n",
       "\thsa-let-7d & 0\\\\\n",
       "\\end{tabular}\n"
      ],
      "text/markdown": [
       "\n",
       "| <!--/--> | PrimaryTumor - SolidTissueNormal | \n",
       "|---|---|---|---|---|---|\n",
       "| hsa-let-7a-1 | 0 | \n",
       "| hsa-let-7a-2 | 0 | \n",
       "| hsa-let-7a-3 | 0 | \n",
       "| hsa-let-7b | 0 | \n",
       "| hsa-let-7c | 0 | \n",
       "| hsa-let-7d | 0 | \n",
       "\n",
       "\n"
      ],
      "text/plain": [
       "              Contrasts\n",
       "               PrimaryTumor - SolidTissueNormal\n",
       "  hsa-let-7a-1 0                               \n",
       "  hsa-let-7a-2 0                               \n",
       "  hsa-let-7a-3 0                               \n",
       "  hsa-let-7b   0                               \n",
       "  hsa-let-7c   0                               \n",
       "  hsa-let-7d   0                               "
      ]
     },
     "metadata": {},
     "output_type": "display_data"
    },
    {
     "data": {
      "text/plain": [
       "   PrimaryTumor - SolidTissueNormal\n",
       "-1                               23\n",
       "0                               248\n",
       "1                                28"
      ]
     },
     "metadata": {},
     "output_type": "display_data"
    }
   ],
   "source": [
    "### differential expression analysis\n",
    "fit <- lmFit(v, design)\n",
    "fit2 <- contrasts.fit(fit, contrast.matrix)\n",
    "fit2 <- eBayes(fit2)\n",
    "results_type <- decideTests(fit2, adjust.method = 'BH', p.value = 0.01, lfc = 1, method='global')\n",
    "head(results_type)\n",
    "\n",
    "summary(results_type)"
   ]
  },
  {
   "cell_type": "code",
   "execution_count": null,
   "metadata": {
    "collapsed": true
   },
   "outputs": [],
   "source": []
  },
  {
   "cell_type": "code",
   "execution_count": 123,
   "metadata": {
    "collapsed": false
   },
   "outputs": [],
   "source": [
    "#vennDiagram(results_type, include=c('up', 'down'), col=c('red','blue'))\n",
    "\n",
    "DEG_P2N <- topTable(fit2, coef=1, n = Inf, sort.by = 'P', p=0.01, lfc = 1)\n",
    "DEG_P2N <- na.omit(DEG_P2N)\n",
    "\n",
    "outFile = paste('limma_001_2X_miRNAs_sample_type_TCGA',project,'txt', sep='.')\n",
    "write.table(DEG_P2N, file = outFile, quote = FALSE, sep = '\\t')\n"
   ]
  },
  {
   "cell_type": "code",
   "execution_count": 135,
   "metadata": {
    "collapsed": true
   },
   "outputs": [],
   "source": [
    "options(jupyter.plot_mimetypes = \"image/png\")"
   ]
  },
  {
   "cell_type": "code",
   "execution_count": 136,
   "metadata": {
    "collapsed": false
   },
   "outputs": [
    {
     "data": {
      "text/html": [
       "<ol class=list-inline>\n",
       "\t<li>8.94479208824367e-55</li>\n",
       "\t<li>3.44741538521396e-49</li>\n",
       "\t<li>3.89343883575167e-44</li>\n",
       "\t<li>3.56662380373176e-42</li>\n",
       "\t<li>4.15454159422963e-40</li>\n",
       "\t<li>6.00850733795454e-39</li>\n",
       "</ol>\n"
      ],
      "text/latex": [
       "\\begin{enumerate*}\n",
       "\\item 8.94479208824367e-55\n",
       "\\item 3.44741538521396e-49\n",
       "\\item 3.89343883575167e-44\n",
       "\\item 3.56662380373176e-42\n",
       "\\item 4.15454159422963e-40\n",
       "\\item 6.00850733795454e-39\n",
       "\\end{enumerate*}\n"
      ],
      "text/markdown": [
       "1. 8.94479208824367e-55\n",
       "2. 3.44741538521396e-49\n",
       "3. 3.89343883575167e-44\n",
       "4. 3.56662380373176e-42\n",
       "5. 4.15454159422963e-40\n",
       "6. 6.00850733795454e-39\n",
       "\n",
       "\n"
      ],
      "text/plain": [
       "[1] 8.944792e-55 3.447415e-49 3.893439e-44 3.566624e-42 4.154542e-40\n",
       "[6] 6.008507e-39"
      ]
     },
     "metadata": {},
     "output_type": "display_data"
    },
    {
     "data": {
      "text/html": [
       "<ol class=list-inline>\n",
       "\t<li>TRUE</li>\n",
       "\t<li>TRUE</li>\n",
       "\t<li>TRUE</li>\n",
       "\t<li>TRUE</li>\n",
       "\t<li>TRUE</li>\n",
       "\t<li>TRUE</li>\n",
       "</ol>\n"
      ],
      "text/latex": [
       "\\begin{enumerate*}\n",
       "\\item TRUE\n",
       "\\item TRUE\n",
       "\\item TRUE\n",
       "\\item TRUE\n",
       "\\item TRUE\n",
       "\\item TRUE\n",
       "\\end{enumerate*}\n"
      ],
      "text/markdown": [
       "1. TRUE\n",
       "2. TRUE\n",
       "3. TRUE\n",
       "4. TRUE\n",
       "5. TRUE\n",
       "6. TRUE\n",
       "\n",
       "\n"
      ],
      "text/plain": [
       "[1] TRUE TRUE TRUE TRUE TRUE TRUE\n",
       "Levels: FALSE TRUE"
      ]
     },
     "metadata": {},
     "output_type": "display_data"
    },
    {
     "data": {},
     "metadata": {},
     "output_type": "display_data"
    },
    {
     "data": {
      "image/png": "[encoded data removed]"
     },
     "metadata": {},
     "output_type": "display_data"
    }
   ],
   "source": [
    "### volcano plot\n",
    "geneList <- topTable(fit2, coef=1, n=Inf, adjust.method = 'BH', sort.by='P')\n",
    "head(geneList$adj.P.Val)\n",
    "geneList$threshold <- as.factor(abs(geneList$logFC)>1 & geneList$adj.P.Val<0.01)\n",
    "head(geneList$threshold)\n",
    "volcano <- ggplot(data=geneList, aes(x=geneList$logFC, y = -log10(geneList$adj.P.Val)))\n",
    "#volcano <- ggplot(data=geneList, aes(x=-log10(geneList$adj.P.Val), y = geneList$logFC))\n",
    "volcano+geom_point(aes(color=geneList$threshold), alpha=1, size=0.2) + xlab(\"log2 Fold Change\") + ylab(\"-log10 adj.p-value\") +\n",
    "  scale_colour_manual(breaks = geneList$threshold, values = c('black', 'red')) + theme(legend.position=\"none\") +\n",
    "  geom_vline(xintercept = c(-1,1), color='darkgreen', linetype=3) + geom_hline(yintercept = 2, color='darkgreen',linetype=3)#+ xlim(0, 20)"
   ]
  },
  {
   "cell_type": "code",
   "execution_count": null,
   "metadata": {
    "collapsed": true
   },
   "outputs": [],
   "source": []
  },
  {
   "cell_type": "code",
   "execution_count": 2,
   "metadata": {
    "collapsed": true
   },
   "outputs": [],
   "source": []
  },
  {
   "cell_type": "code",
   "execution_count": 3,
   "metadata": {
    "collapsed": true
   },
   "outputs": [],
   "source": []
  },
  {
   "cell_type": "code",
   "execution_count": null,
   "metadata": {
    "collapsed": true
   },
   "outputs": [],
   "source": []
  }
 ],
 "metadata": {
  "anaconda-cloud": {},
  "kernelspec": {
   "display_name": "R",
   "language": "R",
   "name": "ir"
  },
  "language_info": {
   "codemirror_mode": "r",
   "file_extension": ".r",
   "mimetype": "text/x-r-source",
   "name": "R",
   "pygments_lexer": "r",
   "version": "3.3.2"
  }
 },
 "nbformat": 4,
 "nbformat_minor": 0
}
